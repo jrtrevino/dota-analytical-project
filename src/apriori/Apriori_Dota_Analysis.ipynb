{
  "nbformat": 4,
  "nbformat_minor": 0,
  "metadata": {
    "colab": {
      "name": "Apriori Dota Analysis.ipynb",
      "provenance": [],
      "machine_shape": "hm"
    },
    "kernelspec": {
      "name": "python3",
      "display_name": "Python 3"
    },
    "language_info": {
      "name": "python"
    },
    "accelerator": "TPU"
  },
  "cells": [
    {
      "cell_type": "markdown",
      "source": [
        "# README\n",
        "1. Upload a file titled 'master_df.csv'\n",
        "2. Upload a file titled 'heroes.json'\n",
        "3.  run the section titled 'Running Apriori from master_df.csv file' to produce results\n"
      ],
      "metadata": {
        "id": "IqBhDwEEX-_B"
      }
    },
    {
      "cell_type": "markdown",
      "source": [
        "# Reading in Datasets"
      ],
      "metadata": {
        "id": "zziAeEd7THPc"
      }
    },
    {
      "cell_type": "code",
      "execution_count": 1,
      "metadata": {
        "id": "swczYwApMkLX"
      },
      "outputs": [],
      "source": [
        "import json\n",
        "import re\n",
        "import pandas as pd"
      ]
    },
    {
      "cell_type": "code",
      "source": [
        "!apt install unzip\n"
      ],
      "metadata": {
        "colab": {
          "base_uri": "https://localhost:8080/"
        },
        "id": "DaLpgQb5m9Cs",
        "outputId": "368dc77e-da12-47d0-c576-b42501f0d0e0"
      },
      "execution_count": null,
      "outputs": [
        {
          "output_type": "stream",
          "name": "stdout",
          "text": [
            "Reading package lists... Done\n",
            "Building dependency tree       \n",
            "Reading state information... Done\n",
            "unzip is already the newest version (6.0-21ubuntu1.1).\n",
            "0 upgraded, 0 newly installed, 0 to remove and 37 not upgraded.\n"
          ]
        }
      ]
    },
    {
      "cell_type": "code",
      "source": [
        "!unzip  '/content/drive/MyDrive/Classes/CSC 466/parsed.zip' -d /parsed"
      ],
      "metadata": {
        "colab": {
          "base_uri": "https://localhost:8080/"
        },
        "id": "T1YF8h4en7ua",
        "outputId": "0e5261e3-68d1-4ef2-ad2c-8f25b4cdb6fb"
      },
      "execution_count": null,
      "outputs": [
        {
          "output_type": "stream",
          "name": "stdout",
          "text": [
            "Archive:  /content/drive/MyDrive/Classes/CSC 466/parsed.zip\n",
            "  inflating: /parsed/output0-players.csv  \n",
            "  inflating: /parsed/output0-players_g2.csv  \n",
            "  inflating: /parsed/output10000-players.csv  \n",
            "  inflating: /parsed/output10000-players_g2.csv  \n",
            "  inflating: /parsed/output12500-players.csv  \n",
            "  inflating: /parsed/output12500-players_g2.csv  \n",
            "  inflating: /parsed/output15000-players.csv  \n",
            "  inflating: /parsed/output15000-players_g2.csv  \n",
            "  inflating: /parsed/output17500-players.csv  \n",
            "  inflating: /parsed/output17500-players_g2.csv  \n",
            "  inflating: /parsed/output20000-players.csv  \n",
            "  inflating: /parsed/output20000-players_g2.csv  \n",
            "  inflating: /parsed/output22500-players.csv  \n",
            "  inflating: /parsed/output22500-players_g2.csv  \n",
            "  inflating: /parsed/output2500-players.csv  \n",
            "  inflating: /parsed/output2500-players_g2.csv  \n",
            "  inflating: /parsed/output5000-players.csv  \n",
            "  inflating: /parsed/output5000-players_g2.csv  \n",
            "  inflating: /parsed/output7500-players.csv  \n",
            "  inflating: /parsed/output7500-players_g2.csv  \n"
          ]
        }
      ]
    },
    {
      "cell_type": "code",
      "source": [
        "import pandas as pd\n",
        "import os\n",
        "\n",
        "master_df = pd.DataFrame()\n",
        "directory = '/parsed/'\n",
        "for entry in os.scandir(directory):\n",
        "    print(entry.path)\n",
        "    if entry.path.endswith('.csv'):\n",
        "        df_player = pd.read_csv(entry.path).set_index('players.match_id')\n",
        "        df_player = df_player[['players.radiant_win', 'players.hero_id']]\n",
        "        master_df = pd.concat([master_df, df_player])\n",
        "        print(master_df.shape, df_player.shape)\n",
        "print(master_df)"
      ],
      "metadata": {
        "colab": {
          "base_uri": "https://localhost:8080/"
        },
        "id": "sMtE8oyMwm3A",
        "outputId": "72859a5b-40c9-4675-e8ec-88b7e6e84fb3"
      },
      "execution_count": null,
      "outputs": [
        {
          "output_type": "stream",
          "name": "stdout",
          "text": [
            "/parsed/output7500-players.csv\n"
          ]
        },
        {
          "output_type": "stream",
          "name": "stderr",
          "text": [
            "/usr/local/lib/python3.7/dist-packages/IPython/core/interactiveshell.py:2718: DtypeWarning: Columns (8,14,16,25,31,48,53,59,60,67,69,70,75,77,78,82,87,124,125,143,536,538,539,540,541) have mixed types.Specify dtype option on import or set low_memory=False.\n",
            "  interactivity=interactivity, compiler=compiler, result=result)\n"
          ]
        },
        {
          "output_type": "stream",
          "name": "stdout",
          "text": [
            "(23670, 2) (23670, 2)\n",
            "/parsed/output5000-players.csv\n"
          ]
        },
        {
          "output_type": "stream",
          "name": "stderr",
          "text": [
            "/usr/local/lib/python3.7/dist-packages/IPython/core/interactiveshell.py:2718: DtypeWarning: Columns (8,14,16,25,31,48,53,59,60,67,69,70,75,77,78,82,87,125,143,535,537,538,539,540) have mixed types.Specify dtype option on import or set low_memory=False.\n",
            "  interactivity=interactivity, compiler=compiler, result=result)\n"
          ]
        },
        {
          "output_type": "stream",
          "name": "stdout",
          "text": [
            "(29942, 2) (6272, 2)\n",
            "/parsed/output10000-players.csv\n"
          ]
        },
        {
          "output_type": "stream",
          "name": "stderr",
          "text": [
            "/usr/local/lib/python3.7/dist-packages/IPython/core/interactiveshell.py:2718: DtypeWarning: Columns (5,11,13,17,22,34,38,40,41,48,49,50,54,55,56,60,64,66,67,102,454,456,457,458,459) have mixed types.Specify dtype option on import or set low_memory=False.\n",
            "  interactivity=interactivity, compiler=compiler, result=result)\n"
          ]
        },
        {
          "output_type": "stream",
          "name": "stdout",
          "text": [
            "(54942, 2) (25000, 2)\n",
            "/parsed/output2500-players.csv\n"
          ]
        },
        {
          "output_type": "stream",
          "name": "stderr",
          "text": [
            "/usr/local/lib/python3.7/dist-packages/IPython/core/interactiveshell.py:2718: DtypeWarning: Columns (8,14,16,25,31,48,53,59,60,67,69,70,75,77,78,82,87,124,125,143,515,517,518,519,520) have mixed types.Specify dtype option on import or set low_memory=False.\n",
            "  interactivity=interactivity, compiler=compiler, result=result)\n"
          ]
        },
        {
          "output_type": "stream",
          "name": "stdout",
          "text": [
            "(79942, 2) (25000, 2)\n",
            "/parsed/output5000-players_g2.csv\n"
          ]
        },
        {
          "output_type": "stream",
          "name": "stderr",
          "text": [
            "/usr/local/lib/python3.7/dist-packages/IPython/core/interactiveshell.py:2718: DtypeWarning: Columns (8,14,16,25,31,48,53,59,60,67,69,70,75,77,78,82,87,89,90,143,518,520,521,522,523) have mixed types.Specify dtype option on import or set low_memory=False.\n",
            "  interactivity=interactivity, compiler=compiler, result=result)\n"
          ]
        },
        {
          "output_type": "stream",
          "name": "stdout",
          "text": [
            "(103442, 2) (23500, 2)\n",
            "/parsed/output20000-players.csv\n"
          ]
        },
        {
          "output_type": "stream",
          "name": "stderr",
          "text": [
            "/usr/local/lib/python3.7/dist-packages/IPython/core/interactiveshell.py:2718: DtypeWarning: Columns (8,14,16,25,31,48,53,59,60,67,69,70,75,77,78,82,87,124,125,143,546,548,549,550,551) have mixed types.Specify dtype option on import or set low_memory=False.\n",
            "  interactivity=interactivity, compiler=compiler, result=result)\n"
          ]
        },
        {
          "output_type": "stream",
          "name": "stdout",
          "text": [
            "(128442, 2) (25000, 2)\n",
            "/parsed/output0-players_g2.csv\n"
          ]
        },
        {
          "output_type": "stream",
          "name": "stderr",
          "text": [
            "/usr/local/lib/python3.7/dist-packages/IPython/core/interactiveshell.py:2718: DtypeWarning: Columns (8,14,16,25,31,48,53,59,60,67,69,70,75,77,78,82,87,124,125,143,542,544,545,546,547) have mixed types.Specify dtype option on import or set low_memory=False.\n",
            "  interactivity=interactivity, compiler=compiler, result=result)\n"
          ]
        },
        {
          "output_type": "stream",
          "name": "stdout",
          "text": [
            "(152052, 2) (23610, 2)\n",
            "/parsed/output12500-players_g2.csv\n"
          ]
        },
        {
          "output_type": "stream",
          "name": "stderr",
          "text": [
            "/usr/local/lib/python3.7/dist-packages/IPython/core/interactiveshell.py:2718: DtypeWarning: Columns (5,11,13,17,22,34,38,40,41,48,49,50,54,55,56,60,64,66,67,102,475,477,478,479,480) have mixed types.Specify dtype option on import or set low_memory=False.\n",
            "  interactivity=interactivity, compiler=compiler, result=result)\n"
          ]
        },
        {
          "output_type": "stream",
          "name": "stdout",
          "text": [
            "(176752, 2) (24700, 2)\n",
            "/parsed/output15000-players.csv\n"
          ]
        },
        {
          "output_type": "stream",
          "name": "stderr",
          "text": [
            "/usr/local/lib/python3.7/dist-packages/IPython/core/interactiveshell.py:2718: DtypeWarning: Columns (8,14,16,25,31,48,53,59,60,67,69,70,75,77,78,82,87,89,90,143,578,580,581,582,583) have mixed types.Specify dtype option on import or set low_memory=False.\n",
            "  interactivity=interactivity, compiler=compiler, result=result)\n"
          ]
        },
        {
          "output_type": "stream",
          "name": "stdout",
          "text": [
            "(201752, 2) (25000, 2)\n",
            "/parsed/output0-players.csv\n",
            "(225362, 2) (23610, 2)\n",
            "/parsed/output10000-players_g2.csv\n"
          ]
        },
        {
          "output_type": "stream",
          "name": "stderr",
          "text": [
            "/usr/local/lib/python3.7/dist-packages/IPython/core/interactiveshell.py:2718: DtypeWarning: Columns (8,14,16,25,31,48,53,59,60,67,69,70,75,77,78,82,87,89,90,143,545,547,548,549,550) have mixed types.Specify dtype option on import or set low_memory=False.\n",
            "  interactivity=interactivity, compiler=compiler, result=result)\n"
          ]
        },
        {
          "output_type": "stream",
          "name": "stdout",
          "text": [
            "(250002, 2) (24640, 2)\n",
            "/parsed/output17500-players_g2.csv\n"
          ]
        },
        {
          "output_type": "stream",
          "name": "stderr",
          "text": [
            "/usr/local/lib/python3.7/dist-packages/IPython/core/interactiveshell.py:2718: DtypeWarning: Columns (8,14,16,25,31,48,53,59,60,67,69,70,75,77,78,82,87,89,90,143,524,526,527,528,529) have mixed types.Specify dtype option on import or set low_memory=False.\n",
            "  interactivity=interactivity, compiler=compiler, result=result)\n"
          ]
        },
        {
          "output_type": "stream",
          "name": "stdout",
          "text": [
            "(275002, 2) (25000, 2)\n",
            "/parsed/output12500-players.csv\n"
          ]
        },
        {
          "output_type": "stream",
          "name": "stderr",
          "text": [
            "/usr/local/lib/python3.7/dist-packages/IPython/core/interactiveshell.py:2718: DtypeWarning: Columns (5,11,13,17,22,34,38,40,41,48,49,50,54,55,56,60,64,66,67,102,607,609,610,611,612) have mixed types.Specify dtype option on import or set low_memory=False.\n",
            "  interactivity=interactivity, compiler=compiler, result=result)\n"
          ]
        },
        {
          "output_type": "stream",
          "name": "stdout",
          "text": [
            "(300002, 2) (25000, 2)\n",
            "/parsed/output15000-players_g2.csv\n"
          ]
        },
        {
          "output_type": "stream",
          "name": "stderr",
          "text": [
            "/usr/local/lib/python3.7/dist-packages/IPython/core/interactiveshell.py:2718: DtypeWarning: Columns (8,14,16,25,31,48,53,59,60,67,69,70,75,77,78,82,87,89,90,143,495,497,498,499,500) have mixed types.Specify dtype option on import or set low_memory=False.\n",
            "  interactivity=interactivity, compiler=compiler, result=result)\n"
          ]
        },
        {
          "output_type": "stream",
          "name": "stdout",
          "text": [
            "(324892, 2) (24890, 2)\n",
            "/parsed/output22500-players_g2.csv\n"
          ]
        },
        {
          "output_type": "stream",
          "name": "stderr",
          "text": [
            "/usr/local/lib/python3.7/dist-packages/IPython/core/interactiveshell.py:2718: DtypeWarning: Columns (8,14,16,25,31,48,53,59,60,67,69,70,75,77,78,82,87,89,90,143,687,689,690,691,692) have mixed types.Specify dtype option on import or set low_memory=False.\n",
            "  interactivity=interactivity, compiler=compiler, result=result)\n"
          ]
        },
        {
          "output_type": "stream",
          "name": "stdout",
          "text": [
            "(349392, 2) (24500, 2)\n",
            "/parsed/output20000-players_g2.csv\n"
          ]
        },
        {
          "output_type": "stream",
          "name": "stderr",
          "text": [
            "/usr/local/lib/python3.7/dist-packages/IPython/core/interactiveshell.py:2718: DtypeWarning: Columns (8,14,16,25,31,48,53,59,60,67,69,70,75,77,78,82,87,124,125,143,501,503,504,505,506) have mixed types.Specify dtype option on import or set low_memory=False.\n",
            "  interactivity=interactivity, compiler=compiler, result=result)\n"
          ]
        },
        {
          "output_type": "stream",
          "name": "stdout",
          "text": [
            "(373572, 2) (24180, 2)\n",
            "/parsed/output2500-players_g2.csv\n"
          ]
        },
        {
          "output_type": "stream",
          "name": "stderr",
          "text": [
            "/usr/local/lib/python3.7/dist-packages/IPython/core/interactiveshell.py:2718: DtypeWarning: Columns (5,11,13,17,22,34,38,40,41,48,49,50,54,55,56,60,64,66,67,102,548,550,551,552,553) have mixed types.Specify dtype option on import or set low_memory=False.\n",
            "  interactivity=interactivity, compiler=compiler, result=result)\n"
          ]
        },
        {
          "output_type": "stream",
          "name": "stdout",
          "text": [
            "(397172, 2) (23600, 2)\n",
            "/parsed/output7500-players_g2.csv\n",
            "(420842, 2) (23670, 2)\n",
            "/parsed/output22500-players.csv\n"
          ]
        },
        {
          "output_type": "stream",
          "name": "stderr",
          "text": [
            "/usr/local/lib/python3.7/dist-packages/IPython/core/interactiveshell.py:2718: DtypeWarning: Columns (8,14,16,25,31,48,53,59,60,67,69,70,75,77,78,82,87,124,125,143,575,577,578,579,580) have mixed types.Specify dtype option on import or set low_memory=False.\n",
            "  interactivity=interactivity, compiler=compiler, result=result)\n"
          ]
        },
        {
          "output_type": "stream",
          "name": "stdout",
          "text": [
            "(445842, 2) (25000, 2)\n",
            "/parsed/output17500-players.csv\n"
          ]
        },
        {
          "output_type": "stream",
          "name": "stderr",
          "text": [
            "/usr/local/lib/python3.7/dist-packages/IPython/core/interactiveshell.py:2718: DtypeWarning: Columns (8,14,16,25,31,48,53,59,60,67,69,70,75,77,78,82,87,89,90,143,565,567,568,569,570) have mixed types.Specify dtype option on import or set low_memory=False.\n",
            "  interactivity=interactivity, compiler=compiler, result=result)\n"
          ]
        },
        {
          "output_type": "stream",
          "name": "stdout",
          "text": [
            "(470842, 2) (25000, 2)\n",
            "                  players.radiant_win  players.hero_id\n",
            "players.match_id                                      \n",
            "6288392612                      False               76\n",
            "6288392612                      False                5\n",
            "6288392612                      False               51\n",
            "6288392612                      False              129\n",
            "6288392612                      False               44\n",
            "...                               ...              ...\n",
            "6287834811                       True               19\n",
            "6287834811                       True              119\n",
            "6287834811                       True               46\n",
            "6287834811                       True               29\n",
            "6287834811                       True                8\n",
            "\n",
            "[470842 rows x 2 columns]\n"
          ]
        }
      ]
    },
    {
      "cell_type": "code",
      "source": [
        "master_df.to_csv('master_df.csv')"
      ],
      "metadata": {
        "id": "IfzPSLLAa0Of"
      },
      "execution_count": null,
      "outputs": []
    },
    {
      "cell_type": "markdown",
      "source": [
        "# Running Apriori from master_df.csv file"
      ],
      "metadata": {
        "id": "U6o0BD0VTSsy"
      }
    },
    {
      "cell_type": "code",
      "source": [
        "!pip install efficient-apriori"
      ],
      "metadata": {
        "colab": {
          "base_uri": "https://localhost:8080/"
        },
        "id": "8eQtHcbxA2_y",
        "outputId": "ab202b3c-5323-40dd-fac9-accaaa839fe5"
      },
      "execution_count": 9,
      "outputs": [
        {
          "output_type": "stream",
          "name": "stdout",
          "text": [
            "Collecting efficient-apriori\n",
            "  Downloading efficient_apriori-2.0.1-py3-none-any.whl (14 kB)\n",
            "Installing collected packages: efficient-apriori\n",
            "Successfully installed efficient-apriori-2.0.1\n"
          ]
        }
      ]
    },
    {
      "cell_type": "code",
      "source": [
        "from efficient_apriori import apriori"
      ],
      "metadata": {
        "id": "4Iune5MXA8nf"
      },
      "execution_count": 10,
      "outputs": []
    },
    {
      "cell_type": "code",
      "source": [
        "master_df = pd.read_csv('master_df.csv')"
      ],
      "metadata": {
        "id": "6o0jUGrtHwUL"
      },
      "execution_count": 2,
      "outputs": []
    },
    {
      "cell_type": "code",
      "source": [
        "master_df = master_df.set_index('players.match_id')"
      ],
      "metadata": {
        "id": "TxKH4JQOxYZO"
      },
      "execution_count": 20,
      "outputs": []
    },
    {
      "cell_type": "code",
      "source": [
        "grouped_df = master_df.groupby(by=[master_df.index, 'players.radiant_win'])\n",
        "transactions = list(map(tuple, list(grouped_df['players.hero_id'].unique())))\n"
      ],
      "metadata": {
        "id": "k1yj-tvdxZit"
      },
      "execution_count": 21,
      "outputs": []
    },
    {
      "cell_type": "code",
      "source": [
        "def drange(start, stop, step):\n",
        "    while start < stop:\n",
        "            yield start\n",
        "            start += step"
      ],
      "metadata": {
        "id": "33xLJatFxjnA"
      },
      "execution_count": 6,
      "outputs": []
    },
    {
      "cell_type": "code",
      "source": [
        "plotting_values = []\n",
        "for support in drange(0.01, .06, 0.001):\n",
        "  itemsets, rules = apriori(transactions, min_support=support, min_confidence=0.01)\n",
        "  print(support, len(itemsets), len(rules))\n",
        "  plotting_values.append([support, len(rules)])"
      ],
      "metadata": {
        "colab": {
          "base_uri": "https://localhost:8080/"
        },
        "id": "qiZH7EVGxukH",
        "outputId": "ca6901dd-9c61-48ec-9128-acac1c9111ea"
      },
      "execution_count": 40,
      "outputs": [
        {
          "output_type": "stream",
          "name": "stdout",
          "text": [
            "0.01 3 2774\n",
            "0.011 2 2318\n",
            "0.012 2 1968\n",
            "0.013000000000000001 2 1660\n",
            "0.014000000000000002 2 1372\n",
            "0.015000000000000003 2 1140\n",
            "0.016000000000000004 2 954\n",
            "0.017000000000000005 2 812\n",
            "0.018000000000000006 2 696\n",
            "0.019000000000000006 2 588\n",
            "0.020000000000000007 2 512\n",
            "0.021000000000000008 2 448\n",
            "0.02200000000000001 2 386\n",
            "0.02300000000000001 2 310\n",
            "0.02400000000000001 2 256\n",
            "0.025000000000000012 2 212\n",
            "0.026000000000000013 2 184\n",
            "0.027000000000000014 2 160\n",
            "0.028000000000000014 2 138\n",
            "0.029000000000000015 2 122\n",
            "0.030000000000000016 2 110\n",
            "0.031000000000000017 2 90\n",
            "0.032000000000000015 2 80\n",
            "0.033000000000000015 2 66\n",
            "0.034000000000000016 2 62\n",
            "0.03500000000000002 2 56\n",
            "0.03600000000000002 2 48\n",
            "0.03700000000000002 2 42\n",
            "0.03800000000000002 2 38\n",
            "0.03900000000000002 2 36\n",
            "0.04000000000000002 2 24\n",
            "0.04100000000000002 2 20\n",
            "0.04200000000000002 2 18\n",
            "0.043000000000000024 2 14\n",
            "0.044000000000000025 2 14\n",
            "0.045000000000000026 2 14\n",
            "0.04600000000000003 2 12\n",
            "0.04700000000000003 2 10\n",
            "0.04800000000000003 2 8\n",
            "0.04900000000000003 2 6\n",
            "0.05000000000000003 2 6\n",
            "0.05100000000000003 2 6\n",
            "0.05200000000000003 2 2\n",
            "0.05300000000000003 2 2\n",
            "0.054000000000000034 2 2\n",
            "0.055000000000000035 2 2\n",
            "0.056000000000000036 2 2\n",
            "0.05700000000000004 2 2\n",
            "0.05800000000000004 1 0\n",
            "0.05900000000000004 1 0\n"
          ]
        }
      ]
    },
    {
      "cell_type": "code",
      "source": [
        "plotting = pd.DataFrame(plotting_values, columns=['support', '# of rules']).set_index('support')"
      ],
      "metadata": {
        "id": "kgo3d_GJy2og"
      },
      "execution_count": 41,
      "outputs": []
    },
    {
      "cell_type": "code",
      "source": [
        "plotting.plot()"
      ],
      "metadata": {
        "colab": {
          "base_uri": "https://localhost:8080/",
          "height": 296
        },
        "id": "cWqE46m45RDF",
        "outputId": "6b8c0576-cadf-42b2-8b71-bd1a5371dc05"
      },
      "execution_count": 42,
      "outputs": [
        {
          "output_type": "execute_result",
          "data": {
            "text/plain": [
              "<matplotlib.axes._subplots.AxesSubplot at 0x7f8f05bdf210>"
            ]
          },
          "metadata": {},
          "execution_count": 42
        },
        {
          "output_type": "display_data",
          "data": {
            "image/png": "[encoded data removed]",
            "text/plain": [
              "<Figure size 432x288 with 1 Axes>"
            ]
          },
          "metadata": {
            "needs_background": "light"
          }
        }
      ]
    },
    {
      "cell_type": "code",
      "source": [
        "plotting_values = []\n",
        "for conf in drange(0.07, .3, 0.01):\n",
        "  itemsets, rules = apriori(transactions, min_support=0.02, min_confidence=conf)\n",
        "  print(conf, len(itemsets), len(rules))\n",
        "  plotting_values.append([conf, len(rules)])"
      ],
      "metadata": {
        "colab": {
          "base_uri": "https://localhost:8080/"
        },
        "id": "vwRGlX6a84Gm",
        "outputId": "3dcc26ef-f0a2-46a3-fd61-12ae13a2e82c"
      },
      "execution_count": 54,
      "outputs": [
        {
          "output_type": "stream",
          "name": "stdout",
          "text": [
            "0.07 2 512\n",
            "0.08 2 506\n",
            "0.09 2 492\n",
            "0.09999999999999999 2 467\n",
            "0.10999999999999999 2 437\n",
            "0.11999999999999998 2 404\n",
            "0.12999999999999998 2 373\n",
            "0.13999999999999999 2 334\n",
            "0.15 2 279\n",
            "0.16 2 242\n",
            "0.17 2 212\n",
            "0.18000000000000002 2 171\n",
            "0.19000000000000003 2 138\n",
            "0.20000000000000004 2 114\n",
            "0.21000000000000005 2 96\n",
            "0.22000000000000006 2 81\n",
            "0.23000000000000007 2 68\n",
            "0.24000000000000007 2 59\n",
            "0.25000000000000006 2 42\n",
            "0.26000000000000006 2 27\n",
            "0.2700000000000001 2 8\n",
            "0.2800000000000001 2 4\n",
            "0.2900000000000001 2 1\n"
          ]
        }
      ]
    },
    {
      "cell_type": "code",
      "source": [
        "plotting = pd.DataFrame(plotting_values, columns=['confidence', '# of rules']).set_index('confidence')\n",
        "plotting.plot()"
      ],
      "metadata": {
        "colab": {
          "base_uri": "https://localhost:8080/",
          "height": 296
        },
        "id": "hmov54SY-7Pv",
        "outputId": "3656abc2-c6a7-4c87-e6a6-0dfbf2998e64"
      },
      "execution_count": 55,
      "outputs": [
        {
          "output_type": "execute_result",
          "data": {
            "text/plain": [
              "<matplotlib.axes._subplots.AxesSubplot at 0x7f8efd425e10>"
            ]
          },
          "metadata": {},
          "execution_count": 55
        },
        {
          "output_type": "display_data",
          "data": {
            "image/png": "[encoded data removed]",
            "text/plain": [
              "<Figure size 432x288 with 1 Axes>"
            ]
          },
          "metadata": {
            "needs_background": "light"
          }
        }
      ]
    },
    {
      "cell_type": "code",
      "source": [
        "itemsets, rules = apriori(transactions, min_support=0.02, min_confidence=0.15)"
      ],
      "metadata": {
        "id": "eaOV6ltEB_6y"
      },
      "execution_count": 56,
      "outputs": []
    },
    {
      "cell_type": "code",
      "source": [
        "with open('heroes.json', 'r') as f:\n",
        "  data = json.load(f)\n",
        "  data"
      ],
      "metadata": {
        "id": "wfHhCc6KW9Gx"
      },
      "execution_count": 58,
      "outputs": []
    },
    {
      "cell_type": "code",
      "source": [
        "for rule in rules:\n",
        "  rule = str(rule).split('(')[0]\n",
        "  temp = re.findall(r'\\d+', str(rule))\n",
        "  hero_mapping = []\n",
        "  for hero_id in temp:\n",
        "    hero_mapping.append(data[hero_id]['name'])\n",
        "  if len(hero_mapping) > 1:\n",
        "      front = hero_mapping[:-1]\n",
        "      back = hero_mapping[-1]\n",
        "      print(' '.join(front) + ' -> ' + back)"
      ],
      "metadata": {
        "colab": {
          "base_uri": "https://localhost:8080/"
        },
        "id": "Ec-OqskFXAAo",
        "outputId": "be8e6078-7986-4bdd-c1d4-88d10c60e69a"
      },
      "execution_count": 59,
      "outputs": [
        {
          "output_type": "stream",
          "name": "stdout",
          "text": [
            "npc_dota_hero_antimage -> npc_dota_hero_nevermore\n",
            "npc_dota_hero_antimage -> npc_dota_hero_pudge\n",
            "npc_dota_hero_antimage -> npc_dota_hero_windrunner\n",
            "npc_dota_hero_lion -> npc_dota_hero_antimage\n",
            "npc_dota_hero_antimage -> npc_dota_hero_lion\n",
            "npc_dota_hero_antimage -> npc_dota_hero_sniper\n",
            "npc_dota_hero_antimage -> npc_dota_hero_invoker\n",
            "npc_dota_hero_antimage -> npc_dota_hero_silencer\n",
            "npc_dota_hero_antimage -> npc_dota_hero_ogre_magi\n",
            "npc_dota_hero_antimage -> npc_dota_hero_legion_commander\n",
            "npc_dota_hero_axe -> npc_dota_hero_pudge\n",
            "npc_dota_hero_axe -> npc_dota_hero_lion\n",
            "npc_dota_hero_axe -> npc_dota_hero_phantom_assassin\n",
            "npc_dota_hero_dazzle -> npc_dota_hero_axe\n",
            "npc_dota_hero_axe -> npc_dota_hero_dazzle\n",
            "npc_dota_hero_axe -> npc_dota_hero_ogre_magi\n",
            "npc_dota_hero_crystal_maiden -> npc_dota_hero_pudge\n",
            "npc_dota_hero_crystal_maiden -> npc_dota_hero_phantom_assassin\n",
            "npc_dota_hero_drow_ranger -> npc_dota_hero_pudge\n",
            "npc_dota_hero_drow_ranger -> npc_dota_hero_lion\n",
            "npc_dota_hero_witch_doctor -> npc_dota_hero_drow_ranger\n",
            "npc_dota_hero_drow_ranger -> npc_dota_hero_sniper\n",
            "npc_dota_hero_drow_ranger -> npc_dota_hero_invoker\n",
            "npc_dota_hero_silencer -> npc_dota_hero_drow_ranger\n",
            "npc_dota_hero_drow_ranger -> npc_dota_hero_silencer\n",
            "npc_dota_hero_ogre_magi -> npc_dota_hero_drow_ranger\n",
            "npc_dota_hero_drow_ranger -> npc_dota_hero_ogre_magi\n",
            "npc_dota_hero_earthshaker -> npc_dota_hero_juggernaut\n",
            "npc_dota_hero_earthshaker -> npc_dota_hero_pudge\n",
            "npc_dota_hero_earthshaker -> npc_dota_hero_lion\n",
            "npc_dota_hero_earthshaker -> npc_dota_hero_sniper\n",
            "npc_dota_hero_earthshaker -> npc_dota_hero_phantom_assassin\n",
            "npc_dota_hero_earthshaker -> npc_dota_hero_invoker\n",
            "npc_dota_hero_earthshaker -> npc_dota_hero_ogre_magi\n",
            "npc_dota_hero_nevermore -> npc_dota_hero_juggernaut\n",
            "npc_dota_hero_pudge -> npc_dota_hero_juggernaut\n",
            "npc_dota_hero_juggernaut -> npc_dota_hero_pudge\n",
            "npc_dota_hero_windrunner -> npc_dota_hero_juggernaut\n",
            "npc_dota_hero_juggernaut -> npc_dota_hero_windrunner\n",
            "npc_dota_hero_lina -> npc_dota_hero_juggernaut\n",
            "npc_dota_hero_lion -> npc_dota_hero_juggernaut\n",
            "npc_dota_hero_juggernaut -> npc_dota_hero_lion\n",
            "npc_dota_hero_shadow_shaman -> npc_dota_hero_juggernaut\n",
            "npc_dota_hero_witch_doctor -> npc_dota_hero_juggernaut\n",
            "npc_dota_hero_sniper -> npc_dota_hero_juggernaut\n",
            "npc_dota_hero_juggernaut -> npc_dota_hero_sniper\n",
            "npc_dota_hero_dazzle -> npc_dota_hero_juggernaut\n",
            "npc_dota_hero_jakiro -> npc_dota_hero_juggernaut\n",
            "npc_dota_hero_spirit_breaker -> npc_dota_hero_juggernaut\n",
            "npc_dota_hero_invoker -> npc_dota_hero_juggernaut\n",
            "npc_dota_hero_juggernaut -> npc_dota_hero_invoker\n",
            "npc_dota_hero_silencer -> npc_dota_hero_juggernaut\n",
            "npc_dota_hero_juggernaut -> npc_dota_hero_silencer\n",
            "npc_dota_hero_ogre_magi -> npc_dota_hero_juggernaut\n",
            "npc_dota_hero_juggernaut -> npc_dota_hero_ogre_magi\n",
            "npc_dota_hero_rubick -> npc_dota_hero_juggernaut\n",
            "npc_dota_hero_magnataur -> npc_dota_hero_juggernaut\n",
            "npc_dota_hero_skywrath_mage -> npc_dota_hero_juggernaut\n",
            "npc_dota_hero_legion_commander -> npc_dota_hero_juggernaut\n",
            "npc_dota_hero_juggernaut -> npc_dota_hero_legion_commander\n",
            "npc_dota_hero_marci -> npc_dota_hero_juggernaut\n",
            "npc_dota_hero_mirana -> npc_dota_hero_pudge\n",
            "npc_dota_hero_mirana -> npc_dota_hero_lion\n",
            "npc_dota_hero_mirana -> npc_dota_hero_phantom_assassin\n",
            "npc_dota_hero_mirana -> npc_dota_hero_ogre_magi\n",
            "npc_dota_hero_morphling -> npc_dota_hero_pudge\n",
            "npc_dota_hero_morphling -> npc_dota_hero_lion\n",
            "npc_dota_hero_nevermore -> npc_dota_hero_pudge\n",
            "npc_dota_hero_lion -> npc_dota_hero_nevermore\n",
            "npc_dota_hero_nevermore -> npc_dota_hero_lion\n",
            "npc_dota_hero_skeleton_king -> npc_dota_hero_nevermore\n",
            "npc_dota_hero_phantom_assassin -> npc_dota_hero_nevermore\n",
            "npc_dota_hero_nevermore -> npc_dota_hero_phantom_assassin\n",
            "npc_dota_hero_nevermore -> npc_dota_hero_ogre_magi\n",
            "npc_dota_hero_slark -> npc_dota_hero_nevermore\n",
            "npc_dota_hero_nevermore -> npc_dota_hero_legion_commander\n",
            "npc_dota_hero_phantom_lancer -> npc_dota_hero_pudge\n",
            "npc_dota_hero_storm_spirit -> npc_dota_hero_pudge\n",
            "npc_dota_hero_windrunner -> npc_dota_hero_pudge\n",
            "npc_dota_hero_pudge -> npc_dota_hero_windrunner\n",
            "npc_dota_hero_zuus -> npc_dota_hero_pudge\n",
            "npc_dota_hero_kunkka -> npc_dota_hero_pudge\n",
            "npc_dota_hero_lina -> npc_dota_hero_pudge\n",
            "npc_dota_hero_lion -> npc_dota_hero_pudge\n",
            "npc_dota_hero_pudge -> npc_dota_hero_lion\n",
            "npc_dota_hero_shadow_shaman -> npc_dota_hero_pudge\n",
            "npc_dota_hero_tidehunter -> npc_dota_hero_pudge\n",
            "npc_dota_hero_witch_doctor -> npc_dota_hero_pudge\n",
            "npc_dota_hero_lich -> npc_dota_hero_pudge\n",
            "npc_dota_hero_tinker -> npc_dota_hero_pudge\n",
            "npc_dota_hero_sniper -> npc_dota_hero_pudge\n",
            "npc_dota_hero_pudge -> npc_dota_hero_sniper\n",
            "npc_dota_hero_necrolyte -> npc_dota_hero_pudge\n",
            "npc_dota_hero_queenofpain -> npc_dota_hero_pudge\n",
            "npc_dota_hero_faceless_void -> npc_dota_hero_pudge\n",
            "npc_dota_hero_skeleton_king -> npc_dota_hero_pudge\n",
            "npc_dota_hero_phantom_assassin -> npc_dota_hero_pudge\n",
            "npc_dota_hero_pudge -> npc_dota_hero_phantom_assassin\n",
            "npc_dota_hero_viper -> npc_dota_hero_pudge\n",
            "npc_dota_hero_luna -> npc_dota_hero_pudge\n",
            "npc_dota_hero_dazzle -> npc_dota_hero_pudge\n",
            "npc_dota_hero_life_stealer -> npc_dota_hero_pudge\n",
            "npc_dota_hero_weaver -> npc_dota_hero_pudge\n",
            "npc_dota_hero_jakiro -> npc_dota_hero_pudge\n",
            "npc_dota_hero_spectre -> npc_dota_hero_pudge\n",
            "npc_dota_hero_ancient_apparition -> npc_dota_hero_pudge\n",
            "npc_dota_hero_ursa -> npc_dota_hero_pudge\n",
            "npc_dota_hero_spirit_breaker -> npc_dota_hero_pudge\n",
            "npc_dota_hero_invoker -> npc_dota_hero_pudge\n",
            "npc_dota_hero_pudge -> npc_dota_hero_invoker\n",
            "npc_dota_hero_silencer -> npc_dota_hero_pudge\n",
            "npc_dota_hero_obsidian_destroyer -> npc_dota_hero_pudge\n",
            "npc_dota_hero_ogre_magi -> npc_dota_hero_pudge\n",
            "npc_dota_hero_pudge -> npc_dota_hero_ogre_magi\n",
            "npc_dota_hero_rubick -> npc_dota_hero_pudge\n",
            "npc_dota_hero_disruptor -> npc_dota_hero_pudge\n",
            "npc_dota_hero_slark -> npc_dota_hero_pudge\n",
            "npc_dota_hero_medusa -> npc_dota_hero_pudge\n",
            "npc_dota_hero_magnataur -> npc_dota_hero_pudge\n",
            "npc_dota_hero_bristleback -> npc_dota_hero_pudge\n",
            "npc_dota_hero_skywrath_mage -> npc_dota_hero_pudge\n",
            "npc_dota_hero_legion_commander -> npc_dota_hero_pudge\n",
            "npc_dota_hero_pudge -> npc_dota_hero_legion_commander\n",
            "npc_dota_hero_techies -> npc_dota_hero_pudge\n",
            "npc_dota_hero_ember_spirit -> npc_dota_hero_pudge\n",
            "npc_dota_hero_monkey_king -> npc_dota_hero_pudge\n",
            "npc_dota_hero_dark_willow -> npc_dota_hero_pudge\n",
            "npc_dota_hero_grimstroke -> npc_dota_hero_pudge\n",
            "npc_dota_hero_hoodwink -> npc_dota_hero_pudge\n",
            "npc_dota_hero_void_spirit -> npc_dota_hero_pudge\n",
            "npc_dota_hero_snapfire -> npc_dota_hero_pudge\n",
            "npc_dota_hero_mars -> npc_dota_hero_pudge\n",
            "npc_dota_hero_marci -> npc_dota_hero_pudge\n",
            "npc_dota_hero_storm_spirit -> npc_dota_hero_lion\n",
            "npc_dota_hero_storm_spirit -> npc_dota_hero_ogre_magi\n",
            "npc_dota_hero_windrunner -> npc_dota_hero_lion\n",
            "npc_dota_hero_windrunner -> npc_dota_hero_sniper\n",
            "npc_dota_hero_skeleton_king -> npc_dota_hero_windrunner\n",
            "npc_dota_hero_phantom_assassin -> npc_dota_hero_windrunner\n",
            "npc_dota_hero_windrunner -> npc_dota_hero_phantom_assassin\n",
            "npc_dota_hero_spirit_breaker -> npc_dota_hero_windrunner\n",
            "npc_dota_hero_windrunner -> npc_dota_hero_ogre_magi\n",
            "npc_dota_hero_slark -> npc_dota_hero_windrunner\n",
            "npc_dota_hero_windrunner -> npc_dota_hero_slark\n",
            "npc_dota_hero_zuus -> npc_dota_hero_lion\n",
            "npc_dota_hero_zuus -> npc_dota_hero_phantom_assassin\n",
            "npc_dota_hero_zuus -> npc_dota_hero_ogre_magi\n",
            "npc_dota_hero_kunkka -> npc_dota_hero_lion\n",
            "npc_dota_hero_lina -> npc_dota_hero_lion\n",
            "npc_dota_hero_lina -> npc_dota_hero_phantom_assassin\n",
            "npc_dota_hero_lina -> npc_dota_hero_ogre_magi\n",
            "npc_dota_hero_shadow_shaman -> npc_dota_hero_lion\n",
            "npc_dota_hero_witch_doctor -> npc_dota_hero_lion\n",
            "npc_dota_hero_tinker -> npc_dota_hero_lion\n",
            "npc_dota_hero_sniper -> npc_dota_hero_lion\n",
            "npc_dota_hero_lion -> npc_dota_hero_sniper\n",
            "npc_dota_hero_necrolyte -> npc_dota_hero_lion\n",
            "npc_dota_hero_queenofpain -> npc_dota_hero_lion\n",
            "npc_dota_hero_faceless_void -> npc_dota_hero_lion\n",
            "npc_dota_hero_skeleton_king -> npc_dota_hero_lion\n",
            "npc_dota_hero_phantom_assassin -> npc_dota_hero_lion\n",
            "npc_dota_hero_lion -> npc_dota_hero_phantom_assassin\n",
            "npc_dota_hero_luna -> npc_dota_hero_lion\n",
            "npc_dota_hero_dazzle -> npc_dota_hero_lion\n",
            "npc_dota_hero_life_stealer -> npc_dota_hero_lion\n",
            "npc_dota_hero_weaver -> npc_dota_hero_lion\n",
            "npc_dota_hero_jakiro -> npc_dota_hero_lion\n",
            "npc_dota_hero_spectre -> npc_dota_hero_lion\n",
            "npc_dota_hero_ursa -> npc_dota_hero_lion\n",
            "npc_dota_hero_spirit_breaker -> npc_dota_hero_lion\n",
            "npc_dota_hero_invoker -> npc_dota_hero_lion\n",
            "npc_dota_hero_lion -> npc_dota_hero_invoker\n",
            "npc_dota_hero_silencer -> npc_dota_hero_lion\n",
            "npc_dota_hero_obsidian_destroyer -> npc_dota_hero_lion\n",
            "npc_dota_hero_ogre_magi -> npc_dota_hero_lion\n",
            "npc_dota_hero_lion -> npc_dota_hero_ogre_magi\n",
            "npc_dota_hero_rubick -> npc_dota_hero_lion\n",
            "npc_dota_hero_slark -> npc_dota_hero_lion\n",
            "npc_dota_hero_lion -> npc_dota_hero_slark\n",
            "npc_dota_hero_medusa -> npc_dota_hero_lion\n",
            "npc_dota_hero_magnataur -> npc_dota_hero_lion\n",
            "npc_dota_hero_bristleback -> npc_dota_hero_lion\n",
            "npc_dota_hero_skywrath_mage -> npc_dota_hero_lion\n",
            "npc_dota_hero_legion_commander -> npc_dota_hero_lion\n",
            "npc_dota_hero_lion -> npc_dota_hero_legion_commander\n",
            "npc_dota_hero_monkey_king -> npc_dota_hero_lion\n",
            "npc_dota_hero_void_spirit -> npc_dota_hero_lion\n",
            "npc_dota_hero_mars -> npc_dota_hero_lion\n",
            "npc_dota_hero_marci -> npc_dota_hero_lion\n",
            "npc_dota_hero_shadow_shaman -> npc_dota_hero_sniper\n",
            "npc_dota_hero_shadow_shaman -> npc_dota_hero_phantom_assassin\n",
            "npc_dota_hero_shadow_shaman -> npc_dota_hero_invoker\n",
            "npc_dota_hero_shadow_shaman -> npc_dota_hero_ogre_magi\n",
            "npc_dota_hero_shadow_shaman -> npc_dota_hero_legion_commander\n",
            "npc_dota_hero_witch_doctor -> npc_dota_hero_sniper\n",
            "npc_dota_hero_witch_doctor -> npc_dota_hero_phantom_assassin\n",
            "npc_dota_hero_witch_doctor -> npc_dota_hero_invoker\n",
            "npc_dota_hero_witch_doctor -> npc_dota_hero_ogre_magi\n",
            "npc_dota_hero_witch_doctor -> npc_dota_hero_legion_commander\n",
            "npc_dota_hero_tinker -> npc_dota_hero_phantom_assassin\n",
            "npc_dota_hero_tinker -> npc_dota_hero_ogre_magi\n",
            "npc_dota_hero_faceless_void -> npc_dota_hero_sniper\n",
            "npc_dota_hero_skeleton_king -> npc_dota_hero_sniper\n",
            "npc_dota_hero_phantom_assassin -> npc_dota_hero_sniper\n",
            "npc_dota_hero_sniper -> npc_dota_hero_phantom_assassin\n",
            "npc_dota_hero_dazzle -> npc_dota_hero_sniper\n",
            "npc_dota_hero_jakiro -> npc_dota_hero_sniper\n",
            "npc_dota_hero_spirit_breaker -> npc_dota_hero_sniper\n",
            "npc_dota_hero_invoker -> npc_dota_hero_sniper\n",
            "npc_dota_hero_sniper -> npc_dota_hero_invoker\n",
            "npc_dota_hero_silencer -> npc_dota_hero_sniper\n",
            "npc_dota_hero_sniper -> npc_dota_hero_silencer\n",
            "npc_dota_hero_ogre_magi -> npc_dota_hero_sniper\n",
            "npc_dota_hero_sniper -> npc_dota_hero_ogre_magi\n",
            "npc_dota_hero_rubick -> npc_dota_hero_sniper\n",
            "npc_dota_hero_slark -> npc_dota_hero_sniper\n",
            "npc_dota_hero_bristleback -> npc_dota_hero_sniper\n",
            "npc_dota_hero_skywrath_mage -> npc_dota_hero_sniper\n",
            "npc_dota_hero_legion_commander -> npc_dota_hero_sniper\n",
            "npc_dota_hero_sniper -> npc_dota_hero_legion_commander\n",
            "npc_dota_hero_monkey_king -> npc_dota_hero_sniper\n",
            "npc_dota_hero_marci -> npc_dota_hero_sniper\n",
            "npc_dota_hero_faceless_void -> npc_dota_hero_invoker\n",
            "npc_dota_hero_faceless_void -> npc_dota_hero_ogre_magi\n",
            "npc_dota_hero_skeleton_king -> npc_dota_hero_invoker\n",
            "npc_dota_hero_skeleton_king -> npc_dota_hero_silencer\n",
            "npc_dota_hero_skeleton_king -> npc_dota_hero_ogre_magi\n",
            "npc_dota_hero_dazzle -> npc_dota_hero_phantom_assassin\n",
            "npc_dota_hero_jakiro -> npc_dota_hero_phantom_assassin\n",
            "npc_dota_hero_spirit_breaker -> npc_dota_hero_phantom_assassin\n",
            "npc_dota_hero_invoker -> npc_dota_hero_phantom_assassin\n",
            "npc_dota_hero_phantom_assassin -> npc_dota_hero_invoker\n",
            "npc_dota_hero_silencer -> npc_dota_hero_phantom_assassin\n",
            "npc_dota_hero_phantom_assassin -> npc_dota_hero_silencer\n",
            "npc_dota_hero_ogre_magi -> npc_dota_hero_phantom_assassin\n",
            "npc_dota_hero_phantom_assassin -> npc_dota_hero_ogre_magi\n",
            "npc_dota_hero_rubick -> npc_dota_hero_phantom_assassin\n",
            "npc_dota_hero_magnataur -> npc_dota_hero_phantom_assassin\n",
            "npc_dota_hero_bristleback -> npc_dota_hero_phantom_assassin\n",
            "npc_dota_hero_skywrath_mage -> npc_dota_hero_phantom_assassin\n",
            "npc_dota_hero_legion_commander -> npc_dota_hero_phantom_assassin\n",
            "npc_dota_hero_phantom_assassin -> npc_dota_hero_legion_commander\n",
            "npc_dota_hero_marci -> npc_dota_hero_phantom_assassin\n",
            "npc_dota_hero_luna -> npc_dota_hero_ogre_magi\n",
            "npc_dota_hero_dazzle -> npc_dota_hero_ogre_magi\n",
            "npc_dota_hero_weaver -> npc_dota_hero_ogre_magi\n",
            "npc_dota_hero_jakiro -> npc_dota_hero_invoker\n",
            "npc_dota_hero_jakiro -> npc_dota_hero_ogre_magi\n",
            "npc_dota_hero_jakiro -> npc_dota_hero_legion_commander\n",
            "npc_dota_hero_spirit_breaker -> npc_dota_hero_invoker\n",
            "npc_dota_hero_spirit_breaker -> npc_dota_hero_ogre_magi\n",
            "npc_dota_hero_silencer -> npc_dota_hero_invoker\n",
            "npc_dota_hero_ogre_magi -> npc_dota_hero_invoker\n",
            "npc_dota_hero_invoker -> npc_dota_hero_ogre_magi\n",
            "npc_dota_hero_rubick -> npc_dota_hero_invoker\n",
            "npc_dota_hero_slark -> npc_dota_hero_invoker\n",
            "npc_dota_hero_magnataur -> npc_dota_hero_invoker\n",
            "npc_dota_hero_legion_commander -> npc_dota_hero_invoker\n",
            "npc_dota_hero_invoker -> npc_dota_hero_legion_commander\n",
            "npc_dota_hero_marci -> npc_dota_hero_invoker\n",
            "npc_dota_hero_silencer -> npc_dota_hero_ogre_magi\n",
            "npc_dota_hero_slark -> npc_dota_hero_silencer\n",
            "npc_dota_hero_silencer -> npc_dota_hero_slark\n",
            "npc_dota_hero_legion_commander -> npc_dota_hero_silencer\n",
            "npc_dota_hero_silencer -> npc_dota_hero_legion_commander\n",
            "npc_dota_hero_rubick -> npc_dota_hero_ogre_magi\n",
            "npc_dota_hero_slark -> npc_dota_hero_ogre_magi\n",
            "npc_dota_hero_ogre_magi -> npc_dota_hero_slark\n",
            "npc_dota_hero_magnataur -> npc_dota_hero_ogre_magi\n",
            "npc_dota_hero_bristleback -> npc_dota_hero_ogre_magi\n",
            "npc_dota_hero_skywrath_mage -> npc_dota_hero_ogre_magi\n",
            "npc_dota_hero_legion_commander -> npc_dota_hero_ogre_magi\n",
            "npc_dota_hero_ogre_magi -> npc_dota_hero_legion_commander\n",
            "npc_dota_hero_monkey_king -> npc_dota_hero_ogre_magi\n",
            "npc_dota_hero_marci -> npc_dota_hero_ogre_magi\n",
            "npc_dota_hero_rubick -> npc_dota_hero_legion_commander\n",
            "npc_dota_hero_legion_commander -> npc_dota_hero_slark\n",
            "npc_dota_hero_slark -> npc_dota_hero_legion_commander\n",
            "npc_dota_hero_skywrath_mage -> npc_dota_hero_legion_commander\n"
          ]
        }
      ]
    }
  ]
}